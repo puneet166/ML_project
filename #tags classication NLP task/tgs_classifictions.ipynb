{
  "nbformat": 4,
  "nbformat_minor": 0,
  "metadata": {
    "colab": {
      "name": "tgs classifictions.ipynb",
      "provenance": [],
      "collapsed_sections": []
    },
    "kernelspec": {
      "name": "python3",
      "display_name": "Python 3"
    }
  },
  "cells": [
    {
      "cell_type": "code",
      "metadata": {
        "id": "Sn4id-m1sIa7",
        "colab_type": "code",
        "colab": {}
      },
      "source": [
        "import nltk\n",
        "import pandas as pd\n"
      ],
      "execution_count": 1,
      "outputs": []
    },
    {
      "cell_type": "code",
      "metadata": {
        "id": "___H-C1zsWE4",
        "colab_type": "code",
        "colab": {
          "base_uri": "https://localhost:8080/",
          "height": 979
        },
        "outputId": "f534759a-fe86-46af-dcda-c843a29ffebe"
      },
      "source": [
        "dataset=pd.read_csv('all.csv')\n",
        "dataset.head(30)"
      ],
      "execution_count": 2,
      "outputs": [
        {
          "output_type": "execute_result",
          "data": {
            "text/html": [
              "<div>\n",
              "<style scoped>\n",
              "    .dataframe tbody tr th:only-of-type {\n",
              "        vertical-align: middle;\n",
              "    }\n",
              "\n",
              "    .dataframe tbody tr th {\n",
              "        vertical-align: top;\n",
              "    }\n",
              "\n",
              "    .dataframe thead th {\n",
              "        text-align: right;\n",
              "    }\n",
              "</style>\n",
              "<table border=\"1\" class=\"dataframe\">\n",
              "  <thead>\n",
              "    <tr style=\"text-align: right;\">\n",
              "      <th></th>\n",
              "      <th>text</th>\n",
              "      <th>cat</th>\n",
              "    </tr>\n",
              "  </thead>\n",
              "  <tbody>\n",
              "    <tr>\n",
              "      <th>0</th>\n",
              "      <td>Puppy Leaks</td>\n",
              "      <td>0</td>\n",
              "    </tr>\n",
              "    <tr>\n",
              "      <th>1</th>\n",
              "      <td>Tips &amp; Tricks For Dog Owners</td>\n",
              "      <td>0</td>\n",
              "    </tr>\n",
              "    <tr>\n",
              "      <th>2</th>\n",
              "      <td>Last updated on March 2, 2020 By Puppy Leaks 2...</td>\n",
              "      <td>0</td>\n",
              "    </tr>\n",
              "    <tr>\n",
              "      <th>3</th>\n",
              "      <td>Dogs have always been such an important part o...</td>\n",
              "      <td>0</td>\n",
              "    </tr>\n",
              "    <tr>\n",
              "      <th>4</th>\n",
              "      <td>And if you’re looking for even more dog quotes...</td>\n",
              "      <td>0</td>\n",
              "    </tr>\n",
              "    <tr>\n",
              "      <th>5</th>\n",
              "      <td>“The greatest pleasure of a dog is that you ma...</td>\n",
              "      <td>0</td>\n",
              "    </tr>\n",
              "    <tr>\n",
              "      <th>6</th>\n",
              "      <td>“A dog is the only thing on earth that loves y...</td>\n",
              "      <td>0</td>\n",
              "    </tr>\n",
              "    <tr>\n",
              "      <th>7</th>\n",
              "      <td>“Dogs have given us their absolute all. We are...</td>\n",
              "      <td>0</td>\n",
              "    </tr>\n",
              "    <tr>\n",
              "      <th>8</th>\n",
              "      <td>“The better I get to know men, the more I find...</td>\n",
              "      <td>0</td>\n",
              "    </tr>\n",
              "    <tr>\n",
              "      <th>9</th>\n",
              "      <td>“It is amazing how much love and laughter they...</td>\n",
              "      <td>0</td>\n",
              "    </tr>\n",
              "    <tr>\n",
              "      <th>10</th>\n",
              "      <td>“To err is human — to forgive, canine.” – Auth...</td>\n",
              "      <td>0</td>\n",
              "    </tr>\n",
              "    <tr>\n",
              "      <th>11</th>\n",
              "      <td>“The bond with a true dog is as lasting as the...</td>\n",
              "      <td>0</td>\n",
              "    </tr>\n",
              "    <tr>\n",
              "      <th>12</th>\n",
              "      <td>“If you pick up a starving dog and make him pr...</td>\n",
              "      <td>0</td>\n",
              "    </tr>\n",
              "    <tr>\n",
              "      <th>13</th>\n",
              "      <td>“If dogs could talk, perhaps we would find it ...</td>\n",
              "      <td>0</td>\n",
              "    </tr>\n",
              "    <tr>\n",
              "      <th>14</th>\n",
              "      <td>“The world would be a nicer place if everyone ...</td>\n",
              "      <td>0</td>\n",
              "    </tr>\n",
              "    <tr>\n",
              "      <th>15</th>\n",
              "      <td>“Money can buy you a fine dog, but only love c...</td>\n",
              "      <td>0</td>\n",
              "    </tr>\n",
              "    <tr>\n",
              "      <th>16</th>\n",
              "      <td>“If there are no dogs in Heaven, then when I d...</td>\n",
              "      <td>0</td>\n",
              "    </tr>\n",
              "    <tr>\n",
              "      <th>17</th>\n",
              "      <td>“If a dog will not come to you after having lo...</td>\n",
              "      <td>0</td>\n",
              "    </tr>\n",
              "    <tr>\n",
              "      <th>18</th>\n",
              "      <td>“Dogs are great. Bad dogs, if you can really c...</td>\n",
              "      <td>0</td>\n",
              "    </tr>\n",
              "    <tr>\n",
              "      <th>19</th>\n",
              "      <td>“No matter how little money and how few posses...</td>\n",
              "      <td>0</td>\n",
              "    </tr>\n",
              "    <tr>\n",
              "      <th>20</th>\n",
              "      <td>“Old dogs, like old shoes, are comfortable. Th...</td>\n",
              "      <td>0</td>\n",
              "    </tr>\n",
              "    <tr>\n",
              "      <th>21</th>\n",
              "      <td>“In order to really enjoy a dog, one doesn’t m...</td>\n",
              "      <td>0</td>\n",
              "    </tr>\n",
              "    <tr>\n",
              "      <th>22</th>\n",
              "      <td>“Don’t accept your dog’s admiration as conclus...</td>\n",
              "      <td>0</td>\n",
              "    </tr>\n",
              "    <tr>\n",
              "      <th>23</th>\n",
              "      <td>“My little dog – a heartbeat at my feet.” – Ed...</td>\n",
              "      <td>0</td>\n",
              "    </tr>\n",
              "    <tr>\n",
              "      <th>24</th>\n",
              "      <td>“Dogs do speak, but only to those who know how...</td>\n",
              "      <td>0</td>\n",
              "    </tr>\n",
              "    <tr>\n",
              "      <th>25</th>\n",
              "      <td>“Histories are more full of examples of the fi...</td>\n",
              "      <td>0</td>\n",
              "    </tr>\n",
              "    <tr>\n",
              "      <th>26</th>\n",
              "      <td>“Dogs have a way of finding the people who nee...</td>\n",
              "      <td>0</td>\n",
              "    </tr>\n",
              "    <tr>\n",
              "      <th>27</th>\n",
              "      <td>“No one appreciates the very special genius of...</td>\n",
              "      <td>0</td>\n",
              "    </tr>\n",
              "    <tr>\n",
              "      <th>28</th>\n",
              "      <td>“Dogs teach us a very important lesson in life...</td>\n",
              "      <td>0</td>\n",
              "    </tr>\n",
              "    <tr>\n",
              "      <th>29</th>\n",
              "      <td>“A dog desires affection more than its dinner....</td>\n",
              "      <td>0</td>\n",
              "    </tr>\n",
              "  </tbody>\n",
              "</table>\n",
              "</div>"
            ],
            "text/plain": [
              "                                                 text  cat\n",
              "0                                         Puppy Leaks    0\n",
              "1                        Tips & Tricks For Dog Owners    0\n",
              "2   Last updated on March 2, 2020 By Puppy Leaks 2...    0\n",
              "3   Dogs have always been such an important part o...    0\n",
              "4   And if you’re looking for even more dog quotes...    0\n",
              "5   “The greatest pleasure of a dog is that you ma...    0\n",
              "6   “A dog is the only thing on earth that loves y...    0\n",
              "7   “Dogs have given us their absolute all. We are...    0\n",
              "8   “The better I get to know men, the more I find...    0\n",
              "9   “It is amazing how much love and laughter they...    0\n",
              "10  “To err is human — to forgive, canine.” – Auth...    0\n",
              "11  “The bond with a true dog is as lasting as the...    0\n",
              "12  “If you pick up a starving dog and make him pr...    0\n",
              "13  “If dogs could talk, perhaps we would find it ...    0\n",
              "14  “The world would be a nicer place if everyone ...    0\n",
              "15  “Money can buy you a fine dog, but only love c...    0\n",
              "16  “If there are no dogs in Heaven, then when I d...    0\n",
              "17  “If a dog will not come to you after having lo...    0\n",
              "18  “Dogs are great. Bad dogs, if you can really c...    0\n",
              "19  “No matter how little money and how few posses...    0\n",
              "20  “Old dogs, like old shoes, are comfortable. Th...    0\n",
              "21  “In order to really enjoy a dog, one doesn’t m...    0\n",
              "22  “Don’t accept your dog’s admiration as conclus...    0\n",
              "23  “My little dog – a heartbeat at my feet.” – Ed...    0\n",
              "24  “Dogs do speak, but only to those who know how...    0\n",
              "25  “Histories are more full of examples of the fi...    0\n",
              "26  “Dogs have a way of finding the people who nee...    0\n",
              "27  “No one appreciates the very special genius of...    0\n",
              "28  “Dogs teach us a very important lesson in life...    0\n",
              "29  “A dog desires affection more than its dinner....    0"
            ]
          },
          "metadata": {
            "tags": []
          },
          "execution_count": 2
        }
      ]
    },
    {
      "cell_type": "code",
      "metadata": {
        "id": "LxS6Q-RvudKW",
        "colab_type": "code",
        "colab": {}
      },
      "source": [
        "from sklearn import preprocessing # import this liberary for perform label encoding technique on categorical variables"
      ],
      "execution_count": 3,
      "outputs": []
    },
    {
      "cell_type": "code",
      "metadata": {
        "id": "rKGSraoBumbe",
        "colab_type": "code",
        "colab": {
          "base_uri": "https://localhost:8080/",
          "height": 68
        },
        "outputId": "6798fbaf-a402-477f-8808-9a7a2f19849f"
      },
      "source": [
        "import nltk     #nltk liberary use for preprocessing of text and for NLP task \n",
        "import re       # its for expression \n",
        "from nltk.corpus import stopwords #its removes stopwords like is are we etc from sentences(text).\n",
        "from nltk.stem import WordNetLemmatizer # its liberary for Lemmatization (its liberary to convert meaningless words into some meaningfull.)\n",
        "nltk.download('stopwords')\n"
      ],
      "execution_count": 4,
      "outputs": [
        {
          "output_type": "stream",
          "text": [
            "[nltk_data] Downloading package stopwords to /root/nltk_data...\n",
            "[nltk_data]   Package stopwords is already up-to-date!\n"
          ],
          "name": "stdout"
        },
        {
          "output_type": "execute_result",
          "data": {
            "text/plain": [
              "True"
            ]
          },
          "metadata": {
            "tags": []
          },
          "execution_count": 4
        }
      ]
    },
    {
      "cell_type": "code",
      "metadata": {
        "id": "xVOYVaeZu7xt",
        "colab_type": "code",
        "colab": {}
      },
      "source": [
        "data_sen=dataset['text'] # its our independent feature and we will do preprocessing on it.so we are retriveing only Text feature from dataset. \n",
        "output_variable=dataset['cat'] # its our dependent feature. we will use further ."
      ],
      "execution_count": 5,
      "outputs": []
    },
    {
      "cell_type": "code",
      "metadata": {
        "id": "lbobAm0fuwcN",
        "colab_type": "code",
        "colab": {}
      },
      "source": [
        "after_preprocessing_of_text=[]"
      ],
      "execution_count": 6,
      "outputs": []
    },
    {
      "cell_type": "code",
      "metadata": {
        "id": "JIV3HXWEuy58",
        "colab_type": "code",
        "colab": {}
      },
      "source": [
        "Lemmatizer = WordNetLemmatizer() # intilize the WordNetLemmatizer and create object Lemmatizerz\n"
      ],
      "execution_count": 7,
      "outputs": []
    },
    {
      "cell_type": "markdown",
      "metadata": {
        "id": "9fGIPnYBdRUh",
        "colab_type": "text"
      },
      "source": [
        ""
      ]
    },
    {
      "cell_type": "code",
      "metadata": {
        "id": "pulBN7htu000",
        "colab_type": "code",
        "colab": {
          "base_uri": "https://localhost:8080/",
          "height": 88
        },
        "outputId": "a3aa4e87-baf3-4a41-d198-96a302c3b2bd"
      },
      "source": [
        "nltk.download('wordnet')\n",
        "\n",
        "for i in range(0, len(data_sen)): # this loop go till len of the data_Sen ( 0 to 1489)\n",
        "    rev = re.sub('[^a-zA-Z]', ' ', data_sen[i]) # its remove special characters from text. data_sen[i] mean it will take paragraph of ith location and move one by one to the end.\n",
        "    rev = rev.lower() # convert all words into lower case.\n",
        "    rev = rev.split() #perform Tokenizer\n",
        "    \n",
        "    rev = [Lemmatizer.lemmatize(word) for word in rev if not word in stopwords.words('english')] # this statement remove stopwords from paragraphs and perform Lemmatiizations.for this we used list comprehension \n",
        "    rev = ' '.join(rev) # here after perform stopwords and lemmatizations again we are perforing join on which we did spilte .\n",
        "    after_preprocessing_of_text.append(rev) \n",
        "print(after_preprocessing_of_text)\n",
        "  "
      ],
      "execution_count": 8,
      "outputs": [
        {
          "output_type": "stream",
          "text": [
            "[nltk_data] Downloading package wordnet to /root/nltk_data...\n",
            "[nltk_data]   Package wordnet is already up-to-date!\n",
            "['puppy leak', 'tip trick dog owner', 'last updated march puppy leak comment', 'dog always important part life help honor love joy bring thought would nice idea put together list great dog quote quote dog hold special place heart hope enjoy much funny inspirational best dog inspired quote', 'looking even dog quote sure check list funny dog quote heartwarming dog quote powerful quote losing pet', 'greatest pleasure dog may make fool scold make fool samuel butler', 'dog thing earth love love josh billing', 'dog given u absolute center universe focus love faith trust serve u return scrap without doubt best deal man ever made roger caras', 'better get know men find loving dog charles de gaulle', 'amazing much love laughter bring life even much closer become john grogan', 'err human forgive canine author unknown', 'bond true dog lasting tie earth ever konrad lorenz', 'pick starving dog make prosperous bite principal difference dog man mark twain', 'dog could talk perhaps would find hard get along people capek', 'world would nicer place everyone ability love unconditionally dog k clinton', 'money buy fine dog love make wag tail kinky friedman', 'dog heaven die want go went rogers', 'dog come looked face go home examine conscience woodrow wilson', 'dog great bad dog really call perhaps greatest john grogan', 'matter little money possession dog make feel rich louis sabin', 'old dog like old shoe comfortable might bit shape little worn around edge fit well bonnie wilcox', 'order really enjoy dog one merely try train semi human point open oneself possibility becoming partly dog edward hoagland', 'accept dog admiration conclusive evidence wonderful ann lander', 'little dog heartbeat foot edith wharton', 'dog speak know listen orhan pamuk', 'history full example fidelity dog friend alexander pope', 'dog way finding people need filling emptiness ever know thom jones', 'one appreciates special genius conversation much dog christopher morley', 'dog teach u important lesson life mail man trusted sian ford', 'dog desire affection dinner well almost charlotte gray', 'well trained dog make attempt share lunch make feel guilty cannot enjoy helen thomson', 'think dog amazing creature give unconditional love role model alive gilda radner', 'want friend washington get dog harry truman', 'dog come life teach u love depart teach u loss new dog never replaces old dog merely expands heart author unknown', 'nobody fully understand meaning love unless owned dog dog show honest affection flick tail man gather lifetime handshake gene hill', 'care man religion whose dog cat better abraham lincoln', 'dog never bite human marilyn monroe', 'dog day lie around job george carlin', 'average dog nicer person average person andy rooney', 'seen look dog eye quickly vanishing look amazed contempt convinced dog think human nut john steinbeck', 'dog gentleman hope go heaven man mark twain', 'dog owner suggests wear sweater suggest wear tail fran lebowitz', 'lot le cranky dog bob peterson', 'man aspires towards righteous life first act abstinence injury animal albert einstein', 'everyone think best dog none wrong w r purche', 'idea absolute happiness bed rainy day blankie cat dog anne lamott', 'poor dog life firmest friend first welcome foremost defend lord byron', 'pound mammal lick tear away try sit lap hard feel sad kristan higgins', 'caught ill people sneezing giving virus infection kissing dog barbara woodhouse', 'tough stay married wife kiss dog lip yet drink glass rodney dangerfield', 'faith never yet broken except truly faithful dog konrad lorenz', 'intelligent dog rarely want please people respect w r koehler', 'ever walk room forget walked think dog spend life sue murphy', 'even tiniest poodle chihuahua still wolf heart dorothy hinshaw', 'count necessarily size dog fight size fight dog dwight eisenhower', 'dog life short fault really agnes turnbull', 'greatest fear dog know fear come back go door without stanley coren', 'dog teach boy fidelity perseverance turn around three time lying robert benchley', 'greatest historical artistic treasure place curator museum others take walk roger caras', 'found deeply troubled thing get silent devoted companionship dog get source doris day', 'short little life pet spend u spend watching u come home day john grogan', 'lot shelter dog mutt like barack obama', 'dog always dy go library pick book award sticker dog cover trust dog going gordon korman', 'carnegie vanderbilt astor together could raised money enough buy quarter share little dog ernest thompson seton', 'reason number dog smarter human leave litter sever contact mother jodi picoult', 'hound follow feed otto von bismarck', 'know dog snap kind bad mood faster think jill abramson', 'cat inspire daily inspire get dog greg curtis', 'life series dog george carlin', 'psychiatrist world like puppy licking face ben williams', 'dog love integrity true u yes true clarence day', 'wonderful dog life without one life diminished dean koontz', 'think twice picking dog poop another dog poop next think eww dog poop jonah goldberg', 'dog people would important stuff mattered u ashly lorenzana', 'every dog day unless loses tail weak end june carter cash', 'dog leave pawprints heart author unknown', 'dog wise crawl away quiet corner lick wound rejoin world whole agatha christie', 'dog come looked face go home examine conscience woodrow wilson', 'dog worried economy alpo almost dog money joe weinstein', 'size dog fight size fight dog mark twain', 'outside dog book man best friend inside dog dark read groucho marx', 'scratch dog find permanent job franklin jones', 'judge heart man treatment animal immanuel kant', 'fall love dog many way enter new orbit universe feature new color new ritual new rule new way experiencing attachment caroline knapp', 'gratitude dog put shame man ungrateful benefactor saint basil', 'ever consider dog must think u mean come back grocery store amazing haul chicken pork half cow must think greatest hunter earth anne tyler', 'dog thing mend crack broken heart judy desmond', 'gift sending called dog fact precious valuable possession mankind theodorus gaza', 'old saw old dog new trick applies certain people daniel pinkwater', 'get dog quite imagine living one might like afterward imagine living way caroline knapp', 'animal know consistently friend companion dog stanley leinwall', 'wonder dog think poodle member weird religious cult rita rudner', 'dog least one necessarily anything wrong may something wrong life roger caras', 'dog teach unconditional love life thing bad robert wagner', 'think dog heaven tell long u robert louis', 'order really enjoy dog one merely try train semi human point open oneself possibility becoming partly dog edward hoagland', 'decided date guy excited meet dog mean like wanting meet mother bonnie schacter', 'dog created specially child god frolic henry ward', 'happiness warm puppy charles schulz', 'tragedy want dog yet cursed cat life michael sheen', 'belief immortality certain dog known go heaven person james thurber', 'pick starving dog make prosperous bite principal difference dog man mark twain', 'one absolutely unselfish friend man selfish world one never desert one never prof ungrateful treacherous dog george graham', 'dog got fun man man got dog man laughable two animal james thurber', 'something dog make feel good come home thrilled see good ego janet schnellman', 'looking great dog quote sure check following', 'favorite dog quote let know comment partial money buy fine dog love make wag tail ask question tomorrow probably point another favorite love great quote one right mood', 'please share friend', 'tagged quote filed dog article', 'join free monthly newsletter latest news tip deal follow u facebook pinterest latest post update', 'rebekah ward say', 'october', 'love quote particularly dog quote thank compiling', 'jen gabbard say', 'october pm', 'thank hopefully removal extra formatting make easy anyone looking use', 'juan carlos saavedra say', 'august', 'dog seldom quiet wondering', 'jen gabbard say', 'august', 'thank great one', 'mark say', 'june', 'corner dog one three thing happen dog bite b dog eventually run away c dog stay corner forever waiting acceptance gone either way live regret love dog even human one', 'milton r delos santos say', 'august', 'precious gift god gave u simple yet memorable little tiny one prof still unselfish world give love expecting return love every hour make memory count day blessed someone loving life', 'melissa say', 'august pm', 'love quote love collection dog quote favorite quote pillow first dog jack loved house home without dog know said pillow thank collection', 'jasmina say', 'december', 'love dog best quote ever herd', 'shivangi sharma say', 'january', 'see content beautiful style amazing intention pure thank sharing', 'mauli say', 'february pm', 'know god spelled backwards dog', 'lost dog today year', 'memory quote', 'grace say', 'april pm', 'sad', 'michelle say', 'july', 'sorry loss', 'jinny chaves say', 'february pm', 'sorry hear dog lost sad know wrote ever found furry friend sure hope dog came back home jc', 'david robert say', 'june', 'word fail windfall wisdom thank ever much incidentally think poodle must wondrously weird g inspired religious cult rita rudner jackson converted u love shalom david robert', 'john say', 'august pm', 'found collection quote upon beneficial impact dog dog great good anonymous inspiring heart warming funny occasionally sharp think wisdom drawn quotation encouragement discouragement potential dog owner anywhere', 'traci hayes say', 'september', 'love quote best one absolutely unselfish friend man selfish world one never desert one never prof ungrateful treacherous dog', 'truly love compare dog love owner genuine priceless', 'taught kid early age show love animal make lovable human being well since travel much due husband work adopting impossible parent really appreciate educating child introducing pet adaption virtual pet saw game social site thought sharing helped virtually adapting educating kid', 'call kim carbdashian', 'calorie cannot calculated weekend', 'give chocolate quitter', 'fitness fitness whole burger mouth', 'seafood diet see food eat', 'sorry said taco', 'life uncertain eat dessert first', 'favourite thing make dinner reservation', 'nine ten people love chocolate th person always lying', 'life get tough came depend cheese', 'age glass wine never counted', 'cooking like love entered abandon', 'everything see owe spaghetti', 'food rational food culture habit craving identity', 'great food like great sex want', 'made lot mistake falling love regretted never potato went', 'laughter brightest place food', 'weakness always food men order', 'never eat lift', 'people want honest flavourful food show meal take day prepare', 'people love eat always best people', 'recommended', 'love hashtags instagram', 'anything good made chocolate', 'calorie count weekend', 'carbs president', 'cheese milk leap towards immortality', 'eat le box earth', 'eat drink merry tomorrow may die', 'either eat food eat food', 'felt cute might eat later', 'first eat everything else', 'food fuel therapy', 'food really truly effective medicine', 'forget cutting back food best know', 'good food good mood', 'better person le plate', 'cook wine sometimes even add food', 'get way much happiness good food', 'like food like eating want deprive good food', 'like rice rice great hungry want something', 'think food day every day thing', 'think immediately fed food became important part life', 'always junk food person still', 'someone like cooking sharing food form expression', 'like girl know want dinner thinking since lunch', 'like pajama day watch movie eat good food', 'someone else pay food taste much better', 'afraid butter use cream', 'let food thy medicine medicine thy food', 'look good eat gonna anyway call rebel', 'making martha stewart proud since', 'friend tell cooking easy easier cooking', 'peace love charcuterie', 'probably best meat eater world', 'shout wine consistent relationship ever', 'square box round pizza triangle slice confusing', 'food combustible', 'kitchen like love must inserted abandon', 'thing better talking food eating', 'promise pie crust bound break', 'nothing romantic italian food', 'time spent eating two minute time spent coming caption much much longer', 'way heart buy food make food food', 'eating deaf dumb', 'worth every penny', 'need silver fork eat good food', 'think fed immediately food become important part life', 'always junk food still', 'ingramer', 'sign use scribesmedia save feature', 'balanced diet biscuit side', 'fancy restaurant good serve favorite food', 'festival flavor', 'bliss plate', 'drink drink happy tomorrow die', 'follow taste instruction baking', 'food fuel cure', 'good friend good food good time', 'good food good life', 'one want cook food share form expression', 'eat three place everywhere everywhere', 'think fed immediately food became essential part life', 'eat well cannot think well love well sleep well', 'life pizza movie', 'famous food name', 'people bring along like good food', 'satisfy taste', 'sincere love love food', 'wrong food', 'need love little chocolate hurt', 'every time use word healthy lose key make yummy delicious food happens healthy', 'exercise thought said extra fry', 'healthy delicious', 'need trainer someone follow around slap unhealthy food hand', 'food free work', 'jello sideeeeeee', 'waiting find someone look way look food', 'one life mystery two pound box candy make woman gain five pound', 'glad salad', 'thai thai', 'trouble eating italian food five six day later hungry', 'totally guilt free healthy', 'meal prep postmates', 'piece bread one pocket better feather one hat', 'table good friend family become old', 'better peace mind piece cake', 'eat whatever want someone try lecture weight eat', 'find someone look like looking burger', 'friend buy food best friend eat food', 'eat live live eat', 'eat cake someone birthday somewhere today', 'enjoy taking long romantic walk fridge', 'love instagram allows maintain record every meal', 'inside thin woman trying get usually shut bitch chocolate', 'eat', 'time eat diet food waiting steak cook', 'love sincerer love food', 'eat human digest divine', 'recommended', 'ultimate list friend hashtags', 'day favorite', 'fair love food', 'ambience goal', 'carpe diem', 'evening mood', 'feast mode', 'feeling salty', 'food fuel', 'food vibe', 'grateful place', 'happy', 'healthy food happy food happy food happy body happy body happy mind', 'followed heart led fridge', 'recommended', 'find perfect sad status whatsapp', 'came food', 'think food literally day every day thing', 'sorry said hungry', 'love', 'morning mood', 'food pic bring boy yard like absolutely share', 'word needed', 'omw steal food item', 'posting wish mouth', 'take seat grab treat', 'think spin class', 'work hard eat hard', 'related', 'best happy status whatsapp', 'balanced diet cookie hand', 'balanced diet mean cupcake hand', 'diet code time eat food dislike still feel hungry', 'daily protein fix', 'dear diet thing going work u tasteless boring stop cheating', 'diet rule nobody see eating contain calorie', 'take medicine neglect diet waste skill doctor', 'need coach someone follows give slap unhealthy food', 'gin tonic diet far lost day', 'called balance', 'called diet letter word taken', 'cheat day cheat lifestyle', 'diet today food halloween candy', 'diet plan make friend cupcake fatter get thinner look', 'food good e x desire', 'second day diet always easier first second day', 'waiting movie start eating popcorn hardest thing world', 'lot diet eliminating food mascot', 'let split order french fry', 'diet bank account good food choice good investment', 'read next', 'best fitness dieting hashtags', 'fluffy morning treat', 'morning feast', 'toast day ahead', 'morning making waffle', 'egg cited breakfast', 'avocado toast breakfast ground breaking', 'beautiful waffle', 'breakfast champion normal people like', 'broadcast dense love would nutella', 'brunch breakfast without alarm', 'brunch without champagne sad breakfast', 'brunch socially acceptable excuse drink day', 'brunch socially acceptable excuse drink day', 'first brunch', 'champagne free brunch sad breakfast', 'feel awful eat waffle', 'eat breakfast change world', 'eating breakfast good way thank body', 'egg cellent morning', 'every brunch bottomless believe', 'flipped perfection', 'give bacon egg', 'love sleep like time machine breakfast', 'egg citing', 'sunnyside day', 'beat', 'let talk brunch baby let talk', 'morning made better', 'breakfast like body without thinking eval ez write tag bestquotesandcaptions com large mobile banner ezslot', 'rice shine', 'start day right', 'sweet morning', 'breakfast shared friend happiness time well spent', 'breakfast shared friend happiness time well spent', 'never sadness cured breakfast food', 'toastess mostess', 'toast personal', 'accept brunch think deserve', 'egg stra special', 'mouth watering treat', 'despite psychologist say completely fine replace love food', 'everyone say money buy happiness clearly never lunch', 'need coach someone follows slap unhealthy food', 'think stop working lunch', 'favorite animal steak', 'oven fresh goodness', 'people want honest tasty food pretentious meal take day prepare', 'way ruin day cancel lunch plan', 'people admire lot seem think deep thought probably thinking lunch', 'yeh love pizza want marry would eat family wedding', 'bon app tit', 'dinner better eat together', 'dinner essential life therefore make good', 'family eat together stay together', 'good food sweeter shared', 'hate go kitchen food find ingredient', 'eating popcorn wine dinner wrong want right', 'ice cream dinner wrong want right', 'fruit dinner okay mainly grape fermented grape okay fine wine dinner', 'good cook even fire alarm cheer', 'meat dinner', 'favorite thing make dinner reservation', 'fondest memory made gathered around table', 'fork dinner', 'beer thirsty', 'ice cold goodness', 'let hear beer lover', 'please beer', 'raise glass', 'save water drink beer', 'cheer weekend', 'cheer', 'clink drink', 'let drink', 'fail cocktail', 'sip sip hooray', 'age glass wine never counted', 'delight night red white', 'wine na', 'wine clock', 'save water drink wine', 'wine dinner winner', 'wine', 'wineing dining', 'wine want', 'bliss fizz', 'feel fizz', 'soda licious', 'dairy good', 'shake', 'sippin day long', 'milky dreamy', 'something smooth', 'drink legen dairy', 'smoothie healthy', 'fruitful day', 'sip something healthy', 'thanks like chocolate said one ever', 'party without cake formal meeting', 'sweet treat', 'well rounded treat', 'always serve much hot fudge sauce hot fudge sundae make people overjoyed put debt', 'grown best need permission dessert dinner', 'cake ocean', 'calorie count weekend', 'even breakfast begin dessert', 'first let eat rest', 'go shawty sherbert day', 'cake eating', 'want good body much want dessert', 'wish could bake cake full rainbow smile eat happy', 'would leave chocolate feel like giving', 'dinner stomach full dessert stomach still room', 'matter full still room dessert', 'oh hi cutie pie', 'pie love', 'ring joy', 'sweetie pie', 'suga suga get fly', 'sugar spice everything nice', 'live full life empty stomach', 'think well love well sleep well eaten well', 'need silver fork eat well', 'cooky dream', 'cutie cookie', 'lookie cookie', 'something sweet', 'broken cooky calorie', 'coo key heart', 'donut worry happy', 'baegal', 'life short eat donut', 'always eat donut four', 'relational situation third portion donut', 'donut kill vibe', 'bacon like meat candy', 'burger bacon perfect combo', 'every day burger day', 'friend burger fit', 'heaven two bun', 'eye burger fry', 'put egg burger got breakfast', 'food baby nah burger', 'messy bun kind day', 'like carrie bradshaw love good burger', 'let meat', 'life short well done burger', 'living burger life', 'meat veggie burger beautiful', 'nice bun', 'perfect burger perfect date', 'stop burger time', 'best burger like life messy topped bacon', 'bad burger one eat', 'burger much cheese said one ever', 'followed heart led u burger', 'go together like burger fry', 'burger bos', 'wind hair smell fry air', 'yeah lift burger mouth', 'bacon cheeseburger', 'recommended full list best burger caption instagram', 'balanced diet burrito hand', 'burrito bowl basically salad', 'burrito beauty skin deep', 'bae ritto', 'bean rice everything nice', 'black bean pinto bean yes', 'burrito baby', 'burrito business chimichangas burrito final form', 'dip perfection', 'hangry eat burrito', 'scared boo rito', 'eat burrito', 'every fall apart', 'extra cheese please', 'friend let friend eat boring burrito', 'hope burrito heaven', 'used think perfect food exist burrito', 'girl standing front salad asking burrito', 'eating burrito sport world class athlete', 'relationship burrito', 'burrito clock', 'life burritoful', 'livin la vida burrito', 'burrito mex cellent', 'powered burrito', 'put burrito belly rice bean match made heaven', 'pizza plate smile face', 'pizza worth thousand word', 'another one bite crust', 'time good time pizza', 'crust', 'want pizza', 'listen people tell eat whole pizza need kind negativity life', 'gettin cheesy', 'going shopping topping', 'hangin home slice', 'pizza eat', 'love pizza want marry would eat family wedding', 'pepper eye', 'want forever every day', 'fitness fitness whole pizza mouth', 'first succeed order pizza', 'crust trust', 'pizza wish breadstick dream', 'promise pie crust made broken', 'save planet pizza', 'say cheese', 'better feeling world warm pizza box lap', 'pizza', 'wanna pizza', 'read next ultimate list pizza caption instagram', 'pastastic experience', 'penne thought', 'bite cheesier side life', 'carbe diem', 'cravin ramen', 'upsetti eat spaghetti', 'everything see owe spaghetti', 'holy macaroni', 'ramen tic', 'legalize marinara', 'mac cheese please', 'noodle pull game strong', 'pasta la vista', 'penne thought', 'return mac', 'send noods', 'started top ramen', 'ultimate comfort food', 'party without sushi meeting', 'wait sushi', 'catch day', 'miso sushi night', 'take tako', 'feast eye sushi', 'holy mackerel', 'holy roller', 'date without sushi', 'sushi clock', 'let go sailing sushi boat', 'let rock roll', 'looking love eel right place', 'want check sushi caption instagram', 'make every day sushi day', 'never far sushi bar', 'mr rice guy', 'rock roll', 'roe roe roe sushi boat', 'shrimply best', 'much sushi little time', 'sushi best food tunaverse', 'sushi wasabi better together', 'sushi make miso happy', 'sushi rainbow', 'sushi addict welcome', 'sushi cheaper therapy', 'sushi get', 'always room sushi', 'flavorful shell ebration', 'best disney princess taco belle', 'craving carnitas', 'eat taco take nap', 'every day taco day', 'forget flower buy taco', 'guac eat', 'turn one word taco', 'believe love first sight seen taco', 'make everyone happy taco', 'like taco nacho type', 'case taco emergency call juan juan', 'beginning look lot like taco', 'life without taco life', 'live every day like taco tuesday', 'head say gym heart say taco', 'name three better word taco', 'peace love taco', 'spectacolar', 'stressed blessed taco obsessed', 'swimsuit season around corner taco truck', 'taco chance u', 'read next guide taco caption instagram', 'barbecue', 'barbe cute', 'beef bae', 'hello bae becue', 'let grill chill', 'aloha bowl', 'anything possi bowl', 'catch poke bowl', 'crunchy munchie', 'popping', 'pop fun', 'poppin', 'secret ingredient always cheese', 'slice pie without cheese like kiss without squeeze', 'cheese make everything better', 'cheese u take wheel', 'cheese happy', 'stop world melt', 'say', 'say yes cheese', 'sweet dream made cheese', 'cheese', 'great protein fix', 'come hog', 'cooked perfection', 'go bacon heart', 'grill plate', 'le hate steak', 'oh steak', 'pork fection plate', 'meal misteak', 'well done', 'loaf love', 'eat meaty', 'loaf', 'meat match', 'meat', 'think twice eat rice', 'rice day', 'sandwich always good idea', 'surp rice', 'meant midnight snack light fridge', 'supposed midnight snack light fridge', 'issa snack', 'never underestimate power snack', 'snack cidentally love', 'warm soup rise', 'another bowl please', 'keep warm', 'souperb', 'soup', 'good dinner forgive someone even family member', 'dinner day dessert dinner', 'dinner magic happens kitchen', 'hungry turkey', 'mushroom heart', 'thank goodness turkey', 'said dine', 'beat heat', 'craving cone trol', 'make heart melt', 'make ice cream disappear superpower', 'stop eating ice cream container make completely level', 'ice cream dream', 'keep cool', 'life like ice cream enjoy melt', 'summer chill', 'scream ice cream', 'easy peasy lemon squeezy', 'lemon aid thirst', 'squeeze day', 'stay fresh', 'life hand lemon give back deserve chocolate', 'motivational caption', 'inspirational quote woman', 'sunset quote end day', 'hashtags like', 'day moneyback guarantee try', 'tailwind', 'get one month free credit card required', 'kicksta', 'try', 'want save later pin', 'never underestimate power good attire bad day', 'stay strong make wonder still smiling', 'smile prettiest thing wear', 'one million girl one life', 'dream impossible dream come true', 'time look prettier last selfie', 'dressing well best revenge', 'master picture editing', 'started conversation mean dying talk', 'dream big dare fail', 'classy fabulous', 'nobody like u like u', 'queen always queen', 'compete spot spot', 'flashing eye like highway sign', 'keep standard higher heel', 'afraid', 'sparkle every single day', 'queen crowned curl', 'careful push away u come back', 'people stare make worthwhile', 'woman glow differently loved right treated properly', 'personality sassy cheeky', 'queen compete hoe', 'girl born brightness vein', 'every path obstacle continue smile walk path', 'light night wild one smile going save someone life', 'chocolate ask question chocolate understands', 'really easy shopaholic', 'like coffee like bitter dark hot', 'quit trying fix broken', 'happy soul best shield cruel world', 'omg cute', 'girl like telephone love held talked push wrong button get disconnected', 'dancing beat', 'beauty power smile sword', 'life short buy makeup', 'smile beautiful', 'love love anyone else', 'glam give damn', 'smile eye', 'tear belong sissy boy', 'beauty power smile sword', 'love unconditional trust respect', 'leave without reason come back excuse', 'compete spot spot', 'classy dame', 'king ability attract queen queen keep king focused', 'beauty grace also punch face', 'never said good girl bad girl', 'beautiful mind inspire others', 'turn spark soul hide behind', 'girl call back', 'walk like three men walking behind', 'gonna homebody let house party', 'live without', 'first watch hate copy', 'everyone like everyone matter', 'best way get man something suggest old', 'show attitude handle', 'girl mind woman attitude lady class', 'whether eyeliner life wing', 'woman many life shoe', 'land god monster angel', 'lucky life', 'one perfect pencil eraser', 'child girl better', 'queen little world', 'see jealousy', 'need makeup shine bright like diamond', 'woman cannot run world run men', 'put glitter soul hide behind', 'girl laugh mistake excuse laugh', 'every girl naughty side pure heart see', 'occupied stressed small thing like', 'tangled hair care', 'run pursue replaced', 'magic ever apologize fire', 'mess great chaos visible eye', 'little kindness little le judgment', 'swear nice girl something piss bitch come play', 'girl expensive', 'personality unbroken series successful gesture', 'shine light', 'like rest darling', 'asked loyalty replied human ask dog know better', 'busy productive', 'lipstick nicer personality', 'girl love eye flower hair', 'woman marry need anyone advise', 'made', 'girl two thing classy fabulous coco chanel', 'life give lemon ask tequila salt', 'cut pie four piece think could eat eight', 'rest world black white screaming color', 'beauty never asks attention', 'mastering art awkward posing', 'aspire inspire', 'imperfection beauty', 'rome enjoy romance', 'beautiful free mingle', 'success woman one put smile even world frowning', 'someone make option make memory', 'ceo making', 'embrace glorious disaster', 'life short makeup', 'love hate never change', 'born girl disadvantage', 'like eyelash black heart long list people want punch face', 'dress want addressed', 'nothing impossible word say possible', 'person learn life well making true well', 'girl born glitter vein paris hilton', 'beautiful girl anything want life jeanine pirro', 'look like bitch pose like bitch sneer like one definitely mother bitch', 'beautiful believed everything', 'fantasized sort princess', 'better strong pretty useless', 'bitch blonde unbreakable bond', 'true sensuality classy trashy', 'girl survive without boyfriend girl survive without best friend', 'queen little world', 'lifetime adventure', 'change world girl', 'work idol become rival', 'lovely smiling girl', 'confidence designer', 'beautiful stylish love', 'world woke looking unique reward', 'happy girl prettiest', 'girl eye vocabulary', 'matter feel get dress show never give', 'way dress greet sun star', 'never said good girl bad girl', 'one million one billion', 'run world girl', 'know tighter jean friendship', 'queen compete hoe', 'man whistle respond lady dog', 'beautiful cupcake world full muffin', 'classy lot say choose remain silent front idiot', 'reason fat men good natured neither fight run', 'keep calm vacation finally', 'choose guy take meet parent bedroom', 'making memory favorite thing', 'friend cancel call stay meeting three week offense', 'got bobby pin find one', 'ashamed parent job', 'stop stalking create intelligence using', 'boy like purse cute full crap always replaced', 'lady swear class defined elegance dignity vulgar language', 'stop looking happiness place lost', 'girl changing world', 'sugar spice everything nice wanna mess better think twice', 'life led path foresee yet winded upright meant', 'flamingo flock pigeon', 'girl thing', 'behind every successful woman', 'hating make u pretty', 'darling shine', 'treat like option dump like choice', 'sneezed beat beat got sickah', 'happily dressed black', 'beauty power smile sword', 'fairy sparkle', 'cry mascara expensive', 'beautiful woman glow even shining moon', 'enjoying look', 'god clone south year called cousin', 'matter see', 'getting pose', 'know look everything case', 'girl mind woman attitude lady class', 'attitude run family', 'selfish enough self worth self love self respect', 'let eye talking', 'pretty', 'swear nice girl something piss bitch come play', 'heart never try hang mind', 'going speak bad thing back come tell u', 'mine', 'real girl never perfect perfect girl real', 'bad brutally honest fault truth hurt patch', 'beautiful nightmare', 'million fish sea mermaid', 'smile happiness find right nose', 'really rise shine day caffeinate hope best', 'life perfect love', 'run world girl', 'mom say fighter fierce competitor think', 'believe', 'diva drama business', 'chocolate ask question chocolate understands', 'makeup wake', 'mix cutie mission hottie ambition', 'aside gravity nothing life keep', 'life give lemon make lemonade', 'need temporary ignore permanently', 'color pink make everything look pretty', 'never regret something made smile', 'know look everything case', 'agree dictionary girl boy', 'courage crown wear like queen', 'braless flawless', 'beg fight rightfully mine', 'sweet heart cute smile', 'prove shit', 'take life seriously never get alive', 'saddest thing girl dumb guy emma watson', 'men cannot keep secret see ate apple', 'silly girl best', 'classy sassy bit smart assy', 'coffee one hand confidence', 'smile destroys want destroy', 'girl looking heart', 'find tribe love hard', 'one girl blow mind', 'make belief little stronger', 'good time tan line', 'never argue people make soon possible', 'perfect combination flaw', 'hurt many time still smile trust damn strong', 'trust angel', 'behind every successful woman', 'short earth people', 'girl made sugar spice everything nice made sarcasm wine everything fine', 'glam give damn', 'keep friend close enemy closer lipstick closest', 'got beauty got class', 'galaxy eye universe mind', 'need part time people life', 'make stop stare', 'cinderella proof new pair shoe change life', 'stop world world stop carry', 'beautiful thing woman wear confidence', 'test patience evidence', 'give girl correct footwear conquer world bette midler', 'way always', 'material handle even came', 'nicer like outfit', 'heart mixed emotion eye filled tear', 'lady class never go style', 'karma hit l gladly', 'need knight shining armor sweet boy old blue jean fine', 'give girl right hairstyle conquer world', 'ego speaks attitude reply', 'brighter smile stronger shine', 'attitude stronger rock', 'hairstyle called tried', 'men like girl brain like girl', 'classy choice lifestyle', 'follow trend like', 'short concentrated awesome', 'hair selfie', 'think beauty still left around happy', 'fruit loop world full cheerio', 'life short buy makeup', 'stay strong make wonder still smiling', 'arrow spear day blue tick enough', 'beauty power smile sword', 'need coffee mascara', 'swear normal', 'trying best today hopefully still fit', 'think ready jelly', 'strong creation created god world lion elephant tiger girl', 'type girl moon chased star wished', 'limitless sky priceless smile', 'pretty brown eye mind full star', 'shop till drop', 'one day caught smiling realized thinking', 'woman driver rev engine', 'like moon part always stayed hidden', 'race chase replaced', 'smile lovely', 'nothing come easy chase', 'piss strike', 'let dress speaks', 'wing life eyeliner everything', 'life give lemon use make skin glow', 'till full', 'life tough darling', 'style reflection attitude personality', 'type girl put better smile better outfit better attitude show left behind', 'mind making joke want look like one', 'princess fairy tale', 'elegance inside beautiful outside', 'fire soul grace heart', 'height attitude', 'attitude problem carry personality handle', 'attitude relative explain theory relativity', 'turned can dream plan', 'approval needed', 'attitude kinda savage heart pure gold', 'pink color attitude', 'girl mind woman attitude lady class', 'fantasized sort princess', 'god gave men penis brain unfortunately enough blood supply run time', 'sure marathon netflix', 'personal style everything girly flirty edgy chic', 'first watch hate copy', 'put selfie top tree star', 'woman cannot run world run men', 'woman never fat love grows within', 'need knight shining armor sweet boy old blue jean fine', 'girl mind woman attitude lady class', 'study found woman little extra weight live longer men mention', 'beautiful girl made hard thing believe', 'girl shy start take chance', 'gravity forget pull back ground', 'kind beautiful', 'love moonlight rainstorm many thing soul', 'could anything would tear could born eye live cheek die lip', 'love potential wildly piercing heart sewing back', 'lie told love favorite', 'smile make smile', 'heart always', 'girl like hard find glad feel like known forever', 'love come term condition', 'saddest thing world loving someone used love', 'love took slow step towards heart', 'rose thorn sorrow gladness linked together', 'may hold hand hold heart forever', 'thank reminding butterfly feel like', 'psychology say relaize love someone want happy even', 'together hour feel like second apart day feel like year', 'true love', 'love plant never bloom carry light hidden flower pablo neruda', 'day must happiest day life said love', 'reason love sworn enemy', 'two u make try', 'insomnia blessing someone talk whole night', 'seems right ever done life making way', 'love may made blind given life vision never love', 'relationship perfectly tied string love', 'undeniable bond u', 'relationship worthy unless open mind heart soul partner', 'beside chocolate favorite', 'heart feel eye see', 'confrontation may either make love story break dream', 'love find world friend', 'love person happiness important', 'okay give heart back keep', 'falling love best fall ever took', 'anyone catch eye take someone special catch heart', 'moon sun go know always around', 'promise never forget thought would never leave', 'life like romantic movie played smile flirt laugh fight love', 'one rather lie bed look phone', 'enjoyed never lose love deeply becomes part u helen keller', 'six word love story imagine life without', 'smile literally cute thing ever seen life', 'saw afraid meet met afraid kiss kissed afraid love love afraid lose', 'want cuddle want', 'want thing see hug kiss', 'love composed single soul inhabiting two body', 'love light show way yet endure darkness show star', 'favorite place go mind search peace', 'expect something return called business love', 'love life would enough end time', 'forever much difficult love pure', 'take away love earth tomb', 'together make pretty picture apart much', 'fall love chance stay love choice', 'trying give image fairy tale perfect everything else', 'thought free go anywhere surprising often head direction', 'first last shall never another lifetime life', 'love found way say', 'choose heart', 'true love come inside', 'know annoying cute kind way right', 'take lot hate take much forget took little love', 'forget problem time stand still', 'love like fat kid love cake', 'flower cannot blossom without sunshine man cannot live without love', 'hold hand hold heart', 'true love mean many thing many people mean', 'smile feel passion unfolding hand brush mine thousand sensation seduce', 'every love story beautiful favorite', 'never find someone special', 'love make world go round love make ride worthwhile', 'know silence tear heal pain one day', 'love like water fall drown live without', 'heart forgotten beat busy beating love', 'love like sun coming cloud warming soul', 'look cant deny god bcoz god could created someone wonderful beautiful', 'beautiful smile twinkling eye world', 'lip kiss body hug smile cause heart want', 'sometimes feel one awesome loved', 'love start smile grows kiss end tear', 'love ready alone', 'mine together one love', 'thinking easy every day missing heartache never go away', 'love receive give', 'late night conversation loved one', 'love policy without term condition', 'life really flash eye want see picture', 'go someone proud also take every risk', 'nothing perfect everything perfect', 'love raise hand raise standard', 'always love gb heart mood mind', 'life amount breath take moment take breath away', 'love chance leave choose stay', 'love day forever', 'one thing want change surname mine', 'love never go style', 'true love begin nothing looked return', 'truth hurt lie hurt every time remember', 'love much heart slip beat call name', 'hurt heart till love', 'two time want forever', 'love one love certain dark thing secretly shadow soul', 'true love never dy get stronger', 'around nothing else really matter', 'need need let make work', 'together make pretty picture apart much', 'love act silly around', 'realized guy ever right met', 'truly love someone thing want happy even', 'eye literally turn heart see', 'thing word love', 'love trust honesty long relationship', 'loving choice option need necessity love', 'matter went always knew way back compass star', 'someone first love may great last beyond perfect', 'go day without thinking', 'love one love certain dark thing secretly shadow soul', 'love perfect feeling make two imperfect people perfect', 'love little thing', 'love story start time pas turned true love', 'said heart best', 'want arm hold tight never let go', 'know love', 'need someone actually stay side matter mood', 'real lover man thrill kissing forehead smiling eye staring space', 'relationship perfect u', 'thank reminding butterfly feel like', 'person love fight daily without reason', 'true friend show love time trouble happiness', 'year opportunity love', 'find someone know perfect treat', 'thanks life', 'need life', 'heart always', 'without', 'escape way love', 'love always patient kind', 'love madness love', 'love ever found way say', 'need search earth find one destined', 'feel fragrance love everywhere near', 'calling cute nice calling hot great calling want', 'fell love loved love', 'know love', 'day love today yesterday le tomorrow', 'going pray may live together life die day', 'look eye tend lose thought', 'love come seek give love', 'accept love think deserve', 'matter sad may believe happiness waiting', 'angel ask loved life say', 'used superpower psychiatrist took away', 'donut know would without', 'never gonna different care like', 'travel fall love happy', 'first day saw', 'want arm hold tight never let go', 'life death balanced edge razor', 'stop loving short girl', 'forget fairy tale think love story best one ever told', 'choose li choose without pause without doubt heartbeat li keep choosing', 'whatever soul made mine', 'going make cry least wipe away tear', 'missing someone heart way reminding love', 'thinking keep awake dreaming keep asleep keep alive love', 'go together like peanut butter jelly', 'still fall love every day', 'crave love deep ocean would jealous', 'whatever soul made mine', 'really hope make together till end', 'make heart skip beat', 'realized thinking began wonder long mind occurred since met never left', 'love mean exposing pain hurt deeply hurt someone trust', 'let successful together', 'try say love million different way aspire best', 'power love two heart enlighten whole world', 'morning without dwindled dawn emily dickinson', 'love need perfect need true', 'always madness love also always reason madness friedrich nietzsche', 'want travel world two thing hand hand one camera', 'mister revived fear owe lifetime love', 'giving would biggest mistake could ever commit', 'best friend human daily half mean world love', 'love oneself beginning lifelong romance', 'carry much love heart give', 'hater biggest motivator', 'love oneself beginning lifelong romance', 'falling love', 'love beloved child universe universe lovingly take care', 'heart perfect inside', 'dare love rainbow gold end', 'life motto best blame anything', 'original much better copy', 'perfect limited edition', 'act make difference william james', 'searching one person change life take look mirror', 'still hide poetry', 'care love enough love', 'love first everything else fall line really love get anything done world', 'love important stay positive beauty come inside', 'love hate still going shine', 'beautiful feeling feeling satisfaction', 'born real perfect', 'ala fearful unbelief unbelief', 'could stay awake hear breathing', 'loving vanity sanity andre gide', 'true cannot put heart take', 'love first everything else fall place', 'hardest bravest thing person love one self', 'able love thing fall place vanessa hudgens', 'restore alone', 'make smile effortlessly', 'fell love loved love', 'self love little feel outer self accepting', 'love first spending rest life', 'light life love', 'love get hurt like cut heal always scar', 'life good jealousy worry doubt true love', 'paradise would mind getting stranded even lifetime', 'love keep growing', 'love talk behind back match status front', 'best feeling world look already staring', 'bond never let outside word destroy love', 'darling way embrace scar make fall love every day', 'secret creativity knowing hide source', 'every time see fall love', 'chemistry hot molten lava love pure pearl sea', 'love much', 'whenever face ego love fighting let love win', 'love life every minute jack kerouac', 'source joy center universe whole', 'care anything else world long say mean world', 'regret past regret time wasted wrong people', 'presence make forget problem', 'give love must somewhere soul', 'make one promise always love person enters life', 'love joy good wonder wise amazement god', 'patient tough someday pain useful', 'one tie shoe want falling anyone else', 'thankful everything happens life experience', 'promise protect take care always shelter promise side love', 'love yesterday love still always always', 'deeply loved someone give strength loving someone deeply give courage', 'love greatest refreshment life', 'without love nothing love nothing cannot', 'reason smiling', 'kinda sorta basically pretty much always mind', 'choose house would choose home wherever', 'know feeling real spend time thinking', 'need like heart need beat', 'give kind feeling people write novel', 'loved sweet prince still keep loving till last breath', 'dear love death could endure without live life', 'love send text make smile matter many time read', 'took hour know day love would take life forget', 'love reality far better dream', 'word describe mine word describe u forever xoxo', 'happiness tickle get deep soul kiss love', 'love much heart slip beat call name', 'make happy way one else', 'reason believe love reason believe miracle', 'absolutely nothing matter difficult may seem love cannot face let face everything together', 'calling cute nice calling hot great calling want', 'way know thought knew beat heart skip', 'free hold leave hand please hold heart forever', 'coolest partner ride called life never getting', 'always walk side even holding hand', 'arm home paradise', 'friend ever wanted lover ever dreamed valerie lombardo', 'completely love even car soon late right time love excuse', 'know handful got two hand', 'choose breathing loving would use last breath tell love deanna anderson', 'future always', 'true love story never ending', 'romancing favorite hobby never get tired loving routine never get used', 'make wish would wish wake side every morning love anyone', 'give kind feeling people write novel', 'camera every time look want smile', 'love every moment spent love touched heart', 'every time see fall love', 'wish could turn back clock find sooner love longer', 'look see rest life front eye', 'love story beautiful favorite one', 'one else matter look eye', 'cell phone would charger would dead without love', 'girl like caught guard still cute', 'much', 'power smile never underestimated melt heart touch soul', 'love every moment spent love touched heart', 'every little thing every little thing say contains magic pixie dust', 'everything needed feel happy love met need nothing', 'one never sure anything life', 'sea people eye always searching', 'care first want last love', 'angelic face leaf breathless', 'love need feel complete', 'swear lip touch taste next sixty year life', 'tangled knotted locked tied forever', 'every time see fall love', 'much', 'reason success inspiration motivation', 'wanna reason behind smile surely reason behind mine', 'every love story beautiful favorite', 'mom always told steal anything would gladly steal million kiss', 'best day life told loved beautiful smile', 'forget fall love first fall love others', 'thing get selfies blindness next second', 'still get butterfly even though seen hundred time', 'excuse sexy', 'perfect blend', 'girl love eye flower hair', 'relationship set tone every relationship', 'love blind see le see willing see le', 'nothing replace', 'never love anyone treat like ordinary', 'love like never hurt best thing hold onto life', 'heart always', 'really love someone would purposely something hurt person', 'arm feel like home house ever', 'may someday find someone love much selfies indicate much love self', 'really love someone would purposely something hurt person', 'love word find someone give definition', 'ever dull shine somebody else', 'catastrophically love', 'glitter always option', 'judge know story', 'realize hard take selfie looking ugly', 'feel lost inside', 'self love best love', 'stress really go outfit', 'girl always wanted', 'travel together love forever', 'love confidence makeup give', 'drama enjoy lash', 'never underestimate power brow game', 'beneath makeup behind smile girl wish world', 'confidence level selfie filter', 'life might perfect makeup', 'addicted buying makeup rich enough problem', 'thing possible little coffee mascara', 'believe manicure believe overdressing believe primping leisure wearing lipstick', 'wear makeup fun', 'everything possible little coffee mascara', 'need fairy godmother got mac', 'girl share bf problem worry enough makeup', 'wear makeup impress guy wear way getting high', 'love confidence come good lipstick perfect mascara', 'lipstick one best invention humanity bit waxy color open door brilliant day brilliant smile', 'give reason take second look', 'makeup expression art passion', 'cardio day blending', 'perfect makeup perfect mood perfect day', 'wake makeup repeat', 'may day good perfectly blended foundation even eyeliner', 'addicted buying makeup rich enough face problem', 'common thing life eyeliner got wing like bos', 'drama love lash', 'beneath makeup perfect smile find girl ready conquer world', 'doubt add glitter', 'never go wrong red lipstick', 'thing smoking around eye', 'say beauty skin deep would like say show skin', 'lot money spend lipstick realized relationship', 'many nail color little finger firstworldproblems', 'use cry broken bronzer', 'want cry worth spoiling mascara', 'brush eyebrow brush hair storyofmylife', 'much makeup thatsamyth', 'eyebrow speak louder word', 'know going absolutely brilliant day wing eyeliner even', 'men come go lipstick stick forever', 'never ask girl winged eyeliner late', 'bf still think eyelash real secret share even bar', 'losing bf hurt nothing compared horror losing makeup bag', 'life short buy makeup', 'came saw contoured', 'idea perfect romantic evening walking hand hand along bae makeup aisle', 'think listening problem brow', 'cry ordinary woman pretty woman go makeup shopping', 'yes agree natural look best look know take makeup look natural', 'moment woman powerless waiting nail art dry', 'believe god spell nature', 'love nature', 'nurtured nature', 'finally paradise found', 'one touch nature make whole world kin', 'glad young future without wilderness', 'good clean fun dirt', 'choose one master nature rembrandt', 'one touch nature make whole world kin', 'sound nature sweet everyone love', 'poetry earth never dead', 'sound rain need translation', 'high tide good vibe', 'plant tree enhance beauty nature', 'henry wadsworth longfellow', 'best thing one raining let rain', 'heading hill', 'another day another sunrise', 'go place feel alive', 'beautiful thing ask attention', 'color smile nature', 'look forest creature understand nature everything better', 'need day beach', 'letting nature take course', 'call wild', 'truly love nature find beauty everywhere', 'every sunset opportunity reset', 'wi fi forest promise find better connection', 'behind cloud sun still shining', 'beautiful thing ask attention', 'truly love nature find beauty everywhere vincent van gogh', 'every walk nature one receives far seek', 'nature place visit home gary snyder', 'sky earth peace within', 'within nature lie cure humanity', 'nature hurry yet everything accomplished', 'keep quiet wear color nature', 'every flower soul blossoming nature', 'silence nature real surround feel', 'free ocean', 'always rain hardest people deserve sun', 'heading hill', 'nature first green gold', 'nature never go style', 'wherever go leave trail', 'walk nature witness thousand mile', 'purple mountain majesty insert mountain emoticon', 'smell sea feel sky let soul spirit fly', 'autumn year last loveliest smile', 'adventure', 'nature art god dante alighieri', 'sky limit go', 'exquisite beauty without strangeness proportion edgar allan poe', 'top mountain beneath star', 'every flower soul blossoming nature gerard de nerval', 'forest bathing insert tree bathtub emoticon', 'shield canyon windstorm would never see true beauty carving', 'sunshine rose', 'earth laugh flower', 'sometimes go wave', 'spring nature way saying let party', 'every mountain top within reach keep climbing', 'matter full river still want grow', 'tree beside running water fresher give fruit', 'deep root flower keep light', 'difficult road often lead beautiful destination', 'lightning incredible', 'tree beside running water fresher give fruit', 'snowflake kiss heaven', 'go outside get sunshine', 'man heart away nature becomes hard standing bear', 'nature always wear color spirit', 'lightning incredible', 'stop every stop enjoy take deep breath relax take abundance life', 'every flower soul blossoming nature', 'never busy friend nature', 'depth winter finally learned invincible summer', 'aim moon miss may hit star', 'earth heaven piece', 'live sea love moon', 'nature art god', 'best view come hardest climb', 'mother nature set beautiful anthony hincks', 'life either daring adventure nothing', 'mountain calling must go', 'pleasure pathless wood', 'mountain conquer', 'living enough one must sunshine freedom little flower', 'time spent amongst tree never wasted time', 'true beauty shine make unknown', 'earth music listen george santayana', 'sea cast spell hold one net wonder forever jacques yves cousteau', 'something infinitely healing repeated refrain nature assurance dawn come night spring winter rachel carson', 'clearest way universe forest wilderness john muir', 'gardening humbling experience martha stewart', 'nature place visit home gary snyder', 'give odorous sunrise garden beautiful flower walk undisturbed walt whitman', 'nature enemy raped conquered nature cherished explored terence mckenna', 'sit shade fine day look upon verdant green hill perfect refreshment jane austin', 'beauty awakens soul act dante alighieri', 'ever gone wood must love much mary oliver', 'california new york island land made woody guthrie', 'nature win end abby adam', 'leave road take trail pythagoras', 'spring end day smell like dirt margaret atwood', 'horse make landscape look beautiful alice walker', 'profession always find god nature henry david thoreau', 'joy looking comprehending nature beautiful gift albert einstein', 'wish eye could take photo', 'life one grand adventure', 'want conquer surpass snowy hill', 'camping hair care', 'glorious greeting sun give mountain john muir', 'green favorite color nature', 'branching insert tree emoticon', 'nature internet', 'feeling good natured', 'thing nature something marvelous', 'spring nature way saying let party', 'rolling stone gather moss', 'nature cheaper therapy', 'nature one greatest teacher', 'destroyed nature beauty cannot repurchased price', 'nature beauty frame frame', 'man foot horseback bicycle see feel enjoy one mile motorized tourist hundred mile edward abbey', 'save nature always world', 'see weed see wish', 'even leaf fall', 'looking beauty find nature', 'going wind blow', 'stop look around life pretty amazing', 'bird powered life motivation', 'family one nature masterpiece', 'glorious greeting sun give mountain', 'sky limit go', 'walk nature witness thousand miracle', 'mountain call', 'always rain hardest people deserve sun', 'climb mountain get good tidings', 'moon', 'let sleep star', 'look deep nature understand everything better', 'treat every single day lifetime', 'keep love nature true way understand art', 'peace seeing sunrise sunset knowing thank', 'let find beautiful place get lost', 'world explore', 'surrounded beauty far sight go', 'plant seed happiness hope success love come back abundance law nature', 'good vibe happen tide', 'dream made sand wave', 'girl wanna sun', 'keeping cool pool', 'made sunny day', 'sun sand pineapple hand', 'chapter life called happiness', 'happy burnt', 'catch sea', 'watch sunset netflix', 'summertime always best might charles bowden', 'crazy little sun beach', 'vacation mode', 'summertime always best might', 'say yes new adventure', 'favorite color sunset', 'summer feeling', 'life cool pool', 'summer state mind', 'summer hot hot hot', 'yay summer yippee', 'need vitamin sea', 'tan spam', 'forever chasing sun', 'spring tough act follow god created june al bernstein', 'life journey beach destination', 'grateful good friend hot sun water', 'cause little bit summer whole year john mayer', 'summer always favorite season feel happier', 'summer get speeding ticket', 'summer night like perfection thought wallace stevens', 'food friend sunshine', 'gud vibe happen tide', 'first person complain hot summer get punched', 'summer afternoon summer afternoon always two beautiful word english language henry james', 'happy first day summer', 'let fun sun', 'happiness summer breeze sand toe best friend side', 'beachy kinda girl', 'ocean belong', 'trust magic beginning meister eckhart', 'summer splash', 'wash sand flip flop heart', 'soak sun', 'sun sand pineapple hand', 'let go beach', 'summer mean going beach going disneyland fun', 'keep calm lay sun', 'need palm tree cool breeze', 'sunshine best medicine', 'mermaid', 'taste like seafood', 'happiness come wave', 'high tide good vibe', 'happiest floating sea', 'never stop chasing summer', 'sun always shine storm', 'sun shining weather sweet make wanna move dancing foot', 'good peep bad gambler', 'sunglass season', 'sunshine mixed little hurricane', 'come summer', 'swimming therapy', 'find happiness sun shine', 'reach beach', 'tan skin crazy day late night', 'tropic like hot', 'ocean air salty hair', 'trouble wash away water', 'dream summer last forever', 'air warm heart happy', 'come sun', 'summer always remember people never forget', 'best memory r made flip flop', 'pineapple day keep doctor away', 'could never hundred summer get tired', 'saltwater heals everything', 'eat sleep beach repeat', 'else fails take vacation betty williams', 'happiness sun sand drink hand', 'love beach back', 'life better sun', 'friend sunshine life', 'good time summer fill year', 'sun bleached hair sandy skin', 'make every mermaid hair flip count summer every summer', 'summertime wedding time', 'wave', 'wash sand flip flop heart', 'clock somewhere', 'behind cloud sun still shining', 'woke morning smiled rising sun', 'sunburn tan line day', 'summer hot awesome', 'keep smiling know sun shining', 'need six month vacation twice year', 'sunday funday', 'make sunshine', 'bff c unit', 'cheer sunny day', 'prefer footprint sand snow', 'dear summer please restart', 'better way beat florida heat', 'summer girl guy', 'life better sun', 'eat drink sweaty', 'summer get speeding ticket', 'babe bikini rose holiday', 'summer vacation drink triple see double act single', 'sandy toe sun kissed nose', 'ah summer power make u suffer like', 'rise suddenly world even sun', 'daily motivation every hot day one step closer psl', 'need big pool hot weather', 'find palm', 'every sunset opportunity reset', 'summer state mind', 'make smile like sun', 'day beach', 'wet wild beauty', 'life better beach', 'let summer begin', 'live sun love moon', 'pool hair care', 'home pool', 'cherish every sunset', 'sun beach', 'life better flip flop', 'hello holiday happy see', 'think time trip beach', 'keep calm summer vacation', 'nothing sandy skin summer smile', 'staring summer shandy', 'everything good everything magical happens month june august jenny han', 'thing going swimmingly', 'aloha beach', 'swim contact lens', 'bikini solve everything good start', 'mentally beach', 'r sunshine sunshine', 'sunshine state mind', 'life better bikini', 'kissed sun', 'find sunshine sunshine', 'shoreline sunset simply beautiful', 'summer long', 'better person tan', 'let sea day', 'pina colada', 'pineapple day keep worry away', 'time precious waste wisely', 'gone beach back never', 'sometimes need change scenery', 'life wave catch', 'gotta burn energy storm roll', 'hot dog leg', 'beach hair care', 'lost heart sea', 'girl wanna sun insert sun music emoticon', 'sun sand surf', 'pool party right', 'ready summer night', 'sun may grey life', 'goodbye summer hello fall', 'oh summer', 'end year party', 'u find sunshine sunshine', 'goodbye summer gonna miss', 'ready summer', 'hey summer waiting', 'sunny day give u happiness', 'let see part', 'sunshine mind love summer wrap arm around like warm blanket', 'start weekend', 'friend sun sand sea sound like summer', 'live sunshine swim sea drink wild air', 'good thing come swim', 'already smell summer', 'u never day make count', 'every shadow evidence sun', 'time sea day', 'bikini always good idea', 'meet sky touch sea', 'time wear seashell', 'lazy hazy crazy day summer', 'keep calm catch sun', 'wish vacation day', 'mentally beach', 'collect moment thing', 'dream never ending summer', 'summer always feel like even start', 'keep cool use sunscreen', 'nice summer vacation', 'dream r made sand sun', 'every day one step closer summer', 'summer night city light', 'hit home run sun', 'le monday summer', 'need ice cream', 'close eye picture', 'enjoy summer break', 'day live', 'followed heart led beach', 'buy happiness buy ice cream beach', 'summer love', 'time warm', 'always wear sunscreen', 'said love place summer winter', 'paradise found', 'beach please', 'good morning sunshine', 'summer always feel like even start', 'dear winter breaking think time start seeing season summer hotter', 'one melon', 'shake palm palm', 'hello summer ready flamingle', 'ocean breeze put mind ease', 'save date', 'shake like salt shaker', 'officially summer mode', 'pretty beach', 'sea soon', 'live sunshine swim sea drink wild air ralph waldo emerson', 'whale hello', 'wake summer', 'sun daily reminder rise darkness shine light', 'work hard travel harder', 'believe time another adventure', 'stop look around life pretty amazing', 'wander often wonder always', 'got bad case wanderlust', 'travel escape life life escape u', 'journey best measured friend rather mile tim cahill', 'let wander wifi weak barcelover', 'map true place never herman melville', 'take anywhere', 'wherever go becomes part somehow anita desai', 'life led need life anna quindlen', 'wherever go go heart confucius', 'nothing lose world see', 'lead follow carole king', 'dream colour borrowed sea', 'everywhere list susan sontag', 'finding paradise wherever go', 'scare might good thing try seth godin', 'tan fade memory last forever', 'end regret chance take lewis carroll', 'need magic disappear need destination', 'world book travel read page saint augustine', 'road alone others may walk one walk rumi', 'never stop wanderlust', 'born explore world', 'insane calling', 'one destination never place new way seeing thing henry miller', 'book world best story found page passport', 'wanderlust incurable', 'know going way carl sandburg', 'life begin end comfort zone neale donald walsch', 'end day foot dirty hair messy eye sparkling', 'one life one world explore', 'much william langewiesche', 'want', 'love city never people never met melody truong', 'desire travel understand one existence', 'beautiful path discovered without getting lost erol ozan', 'travel far enough meet david mitchell', 'travelling always running away thing sometimes running truly want', 'lose thing love find', 'find beautiful place get lost', 'travel money return time', 'sometimes road le travelled le travelled reason jerry seinfeld', 'good traveller fixed plan intent arriving lao tzu', 'tourist traveller', 'travel thing buy make richer', 'bad manner keep vacation waiting', 'travel becomes strategy accumulating photograph', 'keep calm travel', 'tan fade memory last forever', 'hard stay mad much beauty world', 'adventure day keep doctor away', 'calorie count vacation', 'people forget year remember moment', 'let adventure begin', 'cloud way unknown thing', 'ready take', 'travel young able', 'go world take train plane place', 'travelling leaf speechless turn storyteller', 'travel much far long life meant lived one place', 'buy ticket pack bag catch plane make new friend great time get lost', 'travel best teacher way open mind taking plane open world', 'one day place always wanted', 'happiness planning trip somewhere new', 'friend travel together stay together', 'heart mine made travel world', 'happiness looking next destination plane window', 'travel best education', 'never stop exploring', 'want make memory world', 'fill life experience thing story tell stuff show', 'good friend listens adventure best friend make', 'nothing make happy pack bag get ready adventure', 'wander lost', 'job fill pocket adventure fill soul', 'get educated travelling', 'world book travel read one page', 'tan fade memory last forever', 'travel healthiest addiction', 'spontaneity best kind adventure', 'adventure worthwhile', 'travel u forever seek place life soul', 'journey best measured friend rather mile', 'place ever bad tell going', 'travel make one modest see tiny place occupy world', 'travel escape life life escape u', 'awaken alone strange town one pleasantest sensation world', 'life led need life', 'travel change place impart new vigour mind', 'travelling tends magnify human emotion', 'people take trip trip take people john steinbeck', 'remember happiness way travel destination', 'one destination never place new way seeing thing', 'life begin end comfort zone', 'really hit people experience world way told', 'take memory leave footprint chief seattle', 'investment travel investment', 'catch flight feeling', 'wave change find direction', 'travel live', 'let wander wifi weak', 'beautiful path discovered without getting lost', 'travel far enough meet', 'live life compass clock', 'travel change place impart new vigour mind', 'time short take time travel', 'travel reward working education living', 'go feel alive', 'travel make one modest see tiny place occupy world gustav flaubert', 'wander often wonder always john travers', 'wherever go go heart', 'journey secret destination traveler unaware martin buber', 'journey arrival matter', 'travel optimism motion', 'travel worth cost sacrifice', 'fastest way travel already', 'sometimes need break beautiful place alone figure thing', 'life journey make', 'travel drug choice', 'seek adventure open mind', 'little see lot', 'road good listener', 'every time train train motivation purpose hardest person someone ever try kill', 'working new old bad old improve', 'fall seven time get eight', 'see result becomes addiction', 'healthy get big muscle', 'workout drink beer', 'never say sky limit footprint moon', 'exercise make life better', 'shall gain shall pay sweat blood vomit', 'change body changing thought', 'debate lift weight', 'strong weak', 'one hour workout day excuse', 'six pack progress', 'change body changing thought', 'remember somewhere little chinese girl warming max', 'success given earned kitchen gym workout day blood sweat occasional tear', 'wake work look hot kick as', 'speed matter forward forward', 'success given earned kitchen gym workout day blood sweat occasional tear', 'ab scream stop mind shout never', 'everybody want bodybuilder nobody want lift heavy weight', 'winner train loser complain', 'talking talk walking walk', 'ab yet', 'today others tomorrow accomplish others', 'put top list', 'enjoy glow good health must exercise', 'best day start workout today tomorrow turn week month year', 'excuse kill fat exercise', 'matter slow go still lapping everybody couch', 'comfort zone enemy', 'believe luck believe hard work believe luck believe gym', 'pain feel today strength feel tomorrow', 'good day work bad day work harder', 'one hour workout day excuse', 'cheat girlfriend workout', 'friend sweat together stay together', 'quit already pain already hurt get reward eric thomas', 'got problem going gym ignoring', 'year see really working', 'always get wish always get work', 'get fit go home', 'pain feel today strength feel tomorrow', 'going gym best drug', 'every morning hard everyone wide awake world friend', 'doubt hate inspiration need', 'lifted happily ever', 'drown falling water drown staying', 'exercise king nutrition queen put together got kingdom jack lalanne', 'never early late work better', 'embrace love body one ever', 'vent anger gym calm', 'strength come physical capacity come indomitable ghandi', 'lift heavy run fast', 'great size come great responsibility', 'exercise nutrition', 'weak give one said fucking easy', 'ab made gym kitchen', 'train like beast look like beauty', 'fight boy', 'worry beauty body worry health body', 'skinny girl look good clothes fit girl look good naked', 'feel like dying', 'make sweat best accessory run harder mascara', 'energy persistence conquer thing ability capable motivation determines attitude determines well', 'quality sleep depends quality day deepak chopra', 'run like hot guy front creepy one behind', 'motivation get started habit keep going', 'body achieves mind belief', 'alone struggle crowded success', 'dedicate becoming best', 'pain gain shut train', 'fitness mental', 'lift heavy push limit beast', 'shortcut take time build better stronger version', 'fitness physical challenge mental one', 'give greatness take time', 'failure temporary change direction set straight next success', 'current body body take new body kind elaine moran', 'every time hear dirty word exercise wash mouth chocolate', 'peanut butter glue hold body together', 'run like hot guy front creepy guy behind', 'gym place fat burned pride earned', 'party like rockstar fuck like pornstar lift like monster', 'go gym clearly amazing personality deserves awesome body go', 'best activity health pumping humping', 'stop rewarding food dog', 'personally victimized trainer', 'wear black gym like funeral fat', 'guy girl fire seriously muscle burning', 'gotta squat tie knot', 'education important big biceps importanter', 'workout happy hour', 'kind wine go squat', 'lift heavy run fast', 'fitness like relationship cheat expect work', 'say squeeze', 'doctor recently told jogging could add year life think right feel ten year older already', 'good enough better possible', 'remember body slave work', 'exercise change body change mind attitude mood', 'gym ask silly question gym understands', 'people like going pub enjoy going gym', 'one decided go', 'today exercise diet decide future personality', 'getting fit mind matter mind matter', 'work hard selfie later', 'run like phone', 'already planning going eat', 'bad workout one happen', 'stronger excuse', 'course heavy call weight', 'never know limit push', 'winner train loser complain', 'never late change habit', 'shortcut take time build stronger better', 'fitness seasonal hobby lifestyle', 'hold back think', 'excuse build muscle', 'great size come great responsibility', 'slow progress still progress', 'much stronger think', 'skinny girl look good clothes fit girl look good naked', 'believe eating like sweating gym', 'start hurt set start', 'math like going gym brain sharpens mind', 'tell people plan show result', 'first ask later ask', 'push one else going', 'spend le time phone time lifting', 'body stand almost anything mind convince', 'go gym think great personality could use banging body', 'best way predict body create', 'get as want sitting', 'sweat fat cry', 'wish workout', 'seems impossible today one day become warm', 'life ups down call squat', 'gym second home', 'boy love sport girl love player', 'never let excuse get way killer workout', 'secret formula lift heavy work hard aim best', 'train like beast look like beauty', 'take every risk drop every fear', 'train people weaker', 'gotta hustle muscle', 'show make statement', 'strong powerful beautiful', 'friend sweat together stay together', 'seems impossible today become warm day', 'good thing come sweat', 'slow process quitting speed', 'wear black gym like funeral fat', 'forget glass slipper princess wear running shoe', 'gym ask silly question gym understands', 'suck one day suck', 'exercise physical therapeutic', 'first ask later ask', 'good day workout bad day work harder', 'workout small moment discomfort make feel good afterward', 'pain momentary glory forever', 'beginning always tough', 'champion train loser complain', 'like run run mean take nap']\n"
          ],
          "name": "stdout"
        }
      ]
    },
    {
      "cell_type": "code",
      "metadata": {
        "id": "LsBcW5JyvF3L",
        "colab_type": "code",
        "colab": {}
      },
      "source": [
        "from sklearn.feature_extraction.text import TfidfVectorizer  # this liberary use for perform TF-IDF\n",
        "TF_IDF_tech = TfidfVectorizer() #initialize here \n",
        " \n",
        "X = TF_IDF_tech.fit_transform(after_preprocessing_of_text).toarray() # convert words into vectors with the help of TF-IDF technique.\n"
      ],
      "execution_count": 9,
      "outputs": []
    },
    {
      "cell_type": "code",
      "metadata": {
        "id": "2OSIt99Y0aDr",
        "colab_type": "code",
        "colab": {
          "base_uri": "https://localhost:8080/",
          "height": 35
        },
        "outputId": "f8a15ef1-93a4-46ac-8631-130aafe016bb"
      },
      "source": [
        "after_preprocessing_of_text[5]"
      ],
      "execution_count": 10,
      "outputs": [
        {
          "output_type": "execute_result",
          "data": {
            "application/vnd.google.colaboratory.intrinsic+json": {
              "type": "string"
            },
            "text/plain": [
              "'greatest pleasure dog may make fool scold make fool samuel butler'"
            ]
          },
          "metadata": {
            "tags": []
          },
          "execution_count": 10
        }
      ]
    },
    {
      "cell_type": "code",
      "metadata": {
        "id": "PzYL69t0v-f0",
        "colab_type": "code",
        "colab": {
          "base_uri": "https://localhost:8080/",
          "height": 34
        },
        "outputId": "f307e89c-8f04-4f86-f0a6-9f0897660bb0"
      },
      "source": [
        "print()"
      ],
      "execution_count": 11,
      "outputs": [
        {
          "output_type": "stream",
          "text": [
            "\n"
          ],
          "name": "stdout"
        }
      ]
    },
    {
      "cell_type": "code",
      "metadata": {
        "id": "qo5uCC5TkZ5j",
        "colab_type": "code",
        "colab": {}
      },
      "source": [
        ""
      ],
      "execution_count": 11,
      "outputs": []
    },
    {
      "cell_type": "code",
      "metadata": {
        "id": "Dl3ciZdxwB6l",
        "colab_type": "code",
        "colab": {}
      },
      "source": [
        "from sklearn.metrics import confusion_matrix # import confusion_matrix for check the accuarcy of classfications models."
      ],
      "execution_count": 12,
      "outputs": []
    },
    {
      "cell_type": "code",
      "metadata": {
        "id": "gsDYQxo1wJFZ",
        "colab_type": "code",
        "colab": {}
      },
      "source": [
        "from sklearn.linear_model import LogisticRegression # we are going to use logistics  regression for multiclasses problem .\n"
      ],
      "execution_count": 13,
      "outputs": []
    },
    {
      "cell_type": "code",
      "metadata": {
        "id": "ysKHTCQOwLES",
        "colab_type": "code",
        "colab": {}
      },
      "source": [
        "#its for svm\n",
        "\n",
        "\n",
        "\n",
        "#ourmodel = LogisticRegression(solver = 'lbfgs') # intialize the model\n",
        "#from sklearn.naive_bayes import GaussianNB\n",
        "#ourmodel= GaussianNB()\n",
        "#from sklearn.svm import SVC # \"Support Vector Classifier\" \n",
        "\n",
        "#ourmodel = SVC(kernel='rbf',gamma=0.01,C=100) \n",
        "\n",
        "#from sklearn.tree import DecisionTreeClassifier \n",
        "#ourmodel = DecisionTreeClassifier(max_depth = 2) \n",
        "#from sklearn.model_selection import GridSearchCV \n",
        "\n",
        "# defining parameter range \n",
        "#param_grid = {'C': [  10, 100], \n",
        "#\t\t\t'gamma': [0.1,0.01,0.001], \n",
        "#\t\t\t'kernel': ['rbf']} \n",
        "\n",
        "#grid = GridSearchCV(SVC(), param_grid, refit = True, verbose = 3) \n",
        "\n",
        "# fitting the model for grid search \n",
        "#grid.fit(X_train, y_train) \n",
        "\n",
        "#from sklearn.neighbors import KNeighborsClassifier \n",
        "#ourmodel = KNeighborsClassifier(n_neighbors = 8)\n",
        "#dtree_predictions = dtree_model.predict(X_test) "
      ],
      "execution_count": 33,
      "outputs": []
    },
    {
      "cell_type": "code",
      "metadata": {
        "id": "GD5WxO9xBHp0",
        "colab_type": "code",
        "colab": {}
      },
      "source": [
        "#its for logicstics regression\n",
        "from sklearn.linear_model import LogisticRegression\n",
        "#ourmodel = LogisticRegression(solver = 'lbfgs') # intialize the model\n",
        "#from sklearn.naive_bayes import GaussianNB\n",
        "#ourmodel= GaussianNB()\n",
        "#from sklearn.svm import SVC # \"Support Vector Classifier\" \n",
        "\n",
        "ourmodel = LogisticRegression(solver='liblinear',penalty='l2',C=10)\n",
        "\n",
        "\n",
        "#from sklearn.tree import DecisionTreeClassifier \n",
        "#ourmodel = DecisionTreeClassifier(max_depth = 2) \n",
        "#from sklearn.model_selection import GridSearchCV \n",
        "\n",
        "# defining parameter range \n",
        "#param_grid = {'C': [  10, 100,1.0,0.1,0.01], \n",
        "#\t\t\t'solver': ['newton-cg','lbfgs','liblinear'], \n",
        "#\t\t\t'penalty': ['l2']} \n",
        "\n",
        "#grid = GridSearchCV(LogisticRegression(), param_grid, refit = True, verbose = 3) \n",
        "\n",
        "# fitting the model for grid search \n",
        "#grid.fit(X_train, y_train) \n",
        "\n",
        "#from sklearn.neighbors import KNeighborsClassifier \n",
        "#ourmodel = KNeighborsClassifier(n_neighbors = 8)\n",
        "#dtree_predictions = dtree_model.predict(X_test) "
      ],
      "execution_count": 51,
      "outputs": []
    },
    {
      "cell_type": "code",
      "metadata": {
        "id": "3bOftEiMwNAe",
        "colab_type": "code",
        "colab": {}
      },
      "source": [
        "from sklearn.model_selection import train_test_split # import libeary for test train splite\n",
        "\n",
        "X_train, X_test, y_train, y_test = train_test_split(X, output_variable, test_size=0.3, random_state=0) # here we are spliting the data into train and test\n",
        "# 30% for testing and 70% for training using random_state=1"
      ],
      "execution_count": 52,
      "outputs": []
    },
    {
      "cell_type": "code",
      "metadata": {
        "id": "Rdr4XH_wwPA_",
        "colab_type": "code",
        "colab": {
          "base_uri": "https://localhost:8080/",
          "height": 102
        },
        "outputId": "117f64fe-0c3a-4240-d36f-91217b9c6f45"
      },
      "source": [
        "#ourmodel.fit(X_train,y_train) # fit independent and dependent features into model\n",
        "ourmodel.fit(X_train, y_train)\n",
        "#ourmodel.fit(X_train, y_train) \n",
        "#grid.fit(X_train, y_train) \n"
      ],
      "execution_count": 53,
      "outputs": [
        {
          "output_type": "execute_result",
          "data": {
            "text/plain": [
              "LogisticRegression(C=10, class_weight=None, dual=False, fit_intercept=True,\n",
              "                   intercept_scaling=1, l1_ratio=None, max_iter=100,\n",
              "                   multi_class='auto', n_jobs=None, penalty='l2',\n",
              "                   random_state=None, solver='liblinear', tol=0.0001, verbose=0,\n",
              "                   warm_start=False)"
            ]
          },
          "metadata": {
            "tags": []
          },
          "execution_count": 53
        }
      ]
    },
    {
      "cell_type": "code",
      "metadata": {
        "id": "O6lEnw5vTiRi",
        "colab_type": "code",
        "colab": {
          "base_uri": "https://localhost:8080/",
          "height": 119
        },
        "outputId": "b0d6179a-d0e7-4e88-fa48-507cc6830961"
      },
      "source": [
        "# print best parameter after tuning \n",
        "print(grid.best_params_) \n",
        "\n",
        "# print how our model looks after hyper-parameter tuning \n",
        "print(grid.best_estimator_) \n"
      ],
      "execution_count": 54,
      "outputs": [
        {
          "output_type": "stream",
          "text": [
            "{'C': 10, 'penalty': 'l2', 'solver': 'liblinear'}\n",
            "LogisticRegression(C=10, class_weight=None, dual=False, fit_intercept=True,\n",
            "                   intercept_scaling=1, l1_ratio=None, max_iter=100,\n",
            "                   multi_class='auto', n_jobs=None, penalty='l2',\n",
            "                   random_state=None, solver='liblinear', tol=0.0001, verbose=0,\n",
            "                   warm_start=False)\n"
          ],
          "name": "stdout"
        }
      ]
    },
    {
      "cell_type": "code",
      "metadata": {
        "id": "gTlol1EMwQx4",
        "colab_type": "code",
        "colab": {
          "base_uri": "https://localhost:8080/",
          "height": 510
        },
        "outputId": "fe53b821-ef4d-45ad-90ae-dd83e9c0ec79"
      },
      "source": [
        "y_pred = ourmodel.predict(X_test) # here is prediction\n",
        "y_pred"
      ],
      "execution_count": 55,
      "outputs": [
        {
          "output_type": "execute_result",
          "data": {
            "text/plain": [
              "array([2, 7, 6, 3, 6, 5, 3, 6, 7, 2, 3, 1, 3, 2, 2, 1, 7, 0, 2, 1, 3, 8,\n",
              "       1, 7, 1, 5, 1, 8, 1, 1, 0, 1, 2, 0, 4, 2, 2, 5, 2, 1, 1, 1, 3, 2,\n",
              "       1, 1, 1, 1, 1, 8, 0, 1, 1, 8, 1, 1, 1, 2, 2, 5, 1, 1, 3, 1, 3, 1,\n",
              "       1, 6, 1, 1, 8, 6, 1, 3, 1, 0, 3, 3, 1, 2, 1, 2, 2, 3, 1, 1, 1, 2,\n",
              "       1, 0, 2, 8, 5, 3, 1, 8, 1, 2, 1, 6, 2, 8, 1, 6, 8, 2, 1, 2, 3, 1,\n",
              "       3, 5, 3, 5, 1, 1, 2, 1, 1, 3, 1, 1, 0, 3, 7, 6, 1, 1, 1, 8, 1, 1,\n",
              "       2, 3, 2, 3, 3, 3, 1, 3, 5, 5, 3, 1, 6, 5, 3, 1, 7, 3, 2, 3, 3, 6,\n",
              "       3, 3, 3, 0, 6, 1, 1, 2, 6, 3, 1, 6, 5, 3, 3, 2, 6, 0, 2, 0, 0, 4,\n",
              "       3, 7, 3, 2, 6, 1, 5, 1, 7, 0, 1, 6, 1, 1, 1, 1, 5, 2, 2, 6, 3, 2,\n",
              "       0, 8, 8, 1, 0, 6, 1, 1, 3, 5, 1, 3, 1, 1, 1, 8, 2, 3, 6, 8, 1, 3,\n",
              "       1, 5, 6, 1, 1, 3, 2, 8, 2, 8, 1, 3, 1, 6, 1, 2, 1, 1, 0, 6, 7, 1,\n",
              "       7, 7, 1, 5, 7, 2, 2, 1, 2, 3, 1, 2, 1, 1, 3, 2, 6, 1, 3, 1, 3, 2,\n",
              "       1, 3, 1, 2, 6, 2, 3, 2, 6, 1, 1, 5, 1, 5, 7, 1, 7, 0, 5, 1, 7, 6,\n",
              "       1, 5, 1, 6, 7, 1, 2, 1, 1, 1, 0, 0, 3, 6, 2, 1, 1, 0, 3, 1, 3, 8,\n",
              "       5, 2, 3, 2, 1, 1, 8, 1, 6, 6, 2, 1, 3, 1, 6, 6, 3, 7, 3, 2, 0, 6,\n",
              "       2, 3, 2, 6, 0, 1, 2, 7, 1, 2, 1, 1, 1, 0, 1, 8, 1, 1, 6, 1, 3, 2,\n",
              "       3, 8, 1, 1, 1, 1, 1, 0, 3, 3, 2, 0, 2, 3, 0, 1, 1, 2, 1, 1, 1, 1,\n",
              "       0, 1, 1, 6, 3, 6, 1, 1, 1, 0, 1, 7, 1, 2, 1, 3, 1, 7, 0, 5, 1, 3,\n",
              "       8, 3, 3, 2, 1, 3, 0, 2, 3, 0, 3, 7, 2, 2, 1, 1, 8, 2, 0, 6, 1, 0,\n",
              "       3, 2, 1, 2, 1, 1, 1, 1, 7, 1, 2, 1, 6, 5, 6, 8, 1, 1, 0, 1, 2, 0,\n",
              "       7, 1, 1, 1, 1, 0, 2, 1, 0, 5, 3, 8, 1, 1, 2, 2, 1, 3, 1, 0, 2, 1,\n",
              "       2, 3, 1, 1, 3, 1, 1, 8, 5, 5, 3, 1, 1, 1, 2, 6, 1, 1, 1, 2, 1, 1,\n",
              "       6, 1, 3, 1, 2, 6, 5, 1, 1, 1, 1, 5, 6, 3, 1, 7, 2, 1, 5, 2, 5, 4,\n",
              "       1, 0, 1, 8, 2, 1, 1, 1, 1, 1, 3, 8, 1, 3, 1, 1, 1, 3, 2, 2, 6, 5,\n",
              "       4, 1, 7, 6, 3, 0, 5, 5, 3, 1, 2, 3, 6, 3, 1, 1, 1, 2, 1, 1, 3, 1,\n",
              "       1, 1, 5, 2, 1, 3, 1, 5, 6, 1, 1, 6, 8, 2, 2, 1, 3, 1, 3, 6, 0, 1,\n",
              "       3, 1, 2, 5, 3, 8, 2, 2, 3, 6, 1, 1, 6, 1, 1, 1, 7, 1, 6, 3, 1, 2,\n",
              "       1, 2, 2, 3, 1, 1, 1, 8, 1, 1, 3, 6, 3, 1, 0, 1, 0, 8, 1, 3, 6, 3,\n",
              "       1])"
            ]
          },
          "metadata": {
            "tags": []
          },
          "execution_count": 55
        }
      ]
    },
    {
      "cell_type": "code",
      "metadata": {
        "id": "_EAt7F0GwT0v",
        "colab_type": "code",
        "colab": {
          "base_uri": "https://localhost:8080/",
          "height": 34
        },
        "outputId": "c43ee5c0-0932-4738-c182-c2d19a2e48de"
      },
      "source": [
        "\n",
        "\n",
        "from sklearn import metrics\n",
        "\n",
        "\n",
        "\n",
        "accuracy = metrics.accuracy_score(y_test, y_pred)\n",
        "print('Accuracy: {:.2f}'.format(accuracy))"
      ],
      "execution_count": 56,
      "outputs": [
        {
          "output_type": "stream",
          "text": [
            "Accuracy: 0.65\n"
          ],
          "name": "stdout"
        }
      ]
    },
    {
      "cell_type": "code",
      "metadata": {
        "id": "pwiTIbKxwWgj",
        "colab_type": "code",
        "colab": {}
      },
      "source": [
        "from sklearn.model_selection import cross_val_score # here we importing cross val score . to calculate our model score \n",
        "score=cross_val_score(ourmodel,X,output_variable,cv=8) #cv=10 mean divied dataset into train and test 10 times and give to the model and model will predict output for 10 times."
      ],
      "execution_count": 94,
      "outputs": []
    },
    {
      "cell_type": "code",
      "metadata": {
        "id": "PCfQtChlwaEY",
        "colab_type": "code",
        "colab": {
          "base_uri": "https://localhost:8080/",
          "height": 34
        },
        "outputId": "9edad803-c272-4000-894b-07885889c7fe"
      },
      "source": [
        "score.mean()"
      ],
      "execution_count": 95,
      "outputs": [
        {
          "output_type": "execute_result",
          "data": {
            "text/plain": [
              "0.688064278331712"
            ]
          },
          "metadata": {
            "tags": []
          },
          "execution_count": 95
        }
      ]
    },
    {
      "cell_type": "code",
      "metadata": {
        "id": "qyDamEnewih_",
        "colab_type": "code",
        "colab": {
          "base_uri": "https://localhost:8080/",
          "height": 34
        },
        "outputId": "2a562880-25bc-46d0-8c40-5b36fd16cb3c"
      },
      "source": [
        "score.min()  "
      ],
      "execution_count": 96,
      "outputs": [
        {
          "output_type": "execute_result",
          "data": {
            "text/plain": [
              "0.66015625"
            ]
          },
          "metadata": {
            "tags": []
          },
          "execution_count": 96
        }
      ]
    },
    {
      "cell_type": "code",
      "metadata": {
        "id": "tDcrMZtT-s65",
        "colab_type": "code",
        "colab": {
          "base_uri": "https://localhost:8080/",
          "height": 34
        },
        "outputId": "0ddf8fa9-f38d-4b2b-d5c2-7e5b2e2c4d7a"
      },
      "source": [
        "score.max()"
      ],
      "execution_count": 97,
      "outputs": [
        {
          "output_type": "execute_result",
          "data": {
            "text/plain": [
              "0.7470817120622568"
            ]
          },
          "metadata": {
            "tags": []
          },
          "execution_count": 97
        }
      ]
    },
    {
      "cell_type": "code",
      "metadata": {
        "id": "LZypF9QseRBA",
        "colab_type": "code",
        "colab": {}
      },
      "source": [
        "url =%sx read -p ''     # its google colab way to get the input from the users\n",
        "url=url[0]      # extract 0 index string. and store is in url variable. we will use this variable for further processing.\n"
      ],
      "execution_count": 98,
      "outputs": []
    },
    {
      "cell_type": "code",
      "metadata": {
        "id": "Np4drulQeWTB",
        "colab_type": "code",
        "colab": {}
      },
      "source": [
        " # this loop go till len of the data_Sen ( 0 to 1489)\n",
        "cc=[]\n",
        "rev = re.sub('[^a-zA-Z]', ' ', url) # its remove special characters from text. data_sen[i] mean it will take paragraph of ith location and move one by one to the end.\n",
        "rev = rev.lower() # convert all words into lower case.\n",
        "rev = rev.split() #perform Tokenizer\n",
        "    \n",
        "rev = [Lemmatizer.lemmatize(word) for word in rev if not word in stopwords.words('english')] # this statement remove stopwords from paragraphs and perform Lemmatiizations.for this we used list comprehension \n",
        "rev = ' '.join(rev) # here after perform stopwords and lemmatizations again we are perforing join on which we did spilte .\n",
        "cc.append(rev)\n"
      ],
      "execution_count": 100,
      "outputs": []
    },
    {
      "cell_type": "code",
      "metadata": {
        "id": "D_DGAjDQjJeT",
        "colab_type": "code",
        "colab": {
          "base_uri": "https://localhost:8080/",
          "height": 34
        },
        "outputId": "bb90aa26-cab9-4f54-b947-3cfbeed8e504"
      },
      "source": [
        "cc"
      ],
      "execution_count": 101,
      "outputs": [
        {
          "output_type": "execute_result",
          "data": {
            "text/plain": [
              "['going usa parent holiday vacation']"
            ]
          },
          "metadata": {
            "tags": []
          },
          "execution_count": 101
        }
      ]
    },
    {
      "cell_type": "code",
      "metadata": {
        "id": "rP3Id7dHjKg2",
        "colab_type": "code",
        "colab": {
          "base_uri": "https://localhost:8080/",
          "height": 34
        },
        "outputId": "74896b31-cfc3-43ef-8e0c-6ec95fafb4a9"
      },
      "source": [
        " \n",
        "X_test=TF_IDF_tech.transform(cc)\n",
        "y=ourmodel.predict(X_test)\n",
        "print(y)"
      ],
      "execution_count": 102,
      "outputs": [
        {
          "output_type": "stream",
          "text": [
            "[6]\n"
          ],
          "name": "stdout"
        }
      ]
    },
    {
      "cell_type": "code",
      "metadata": {
        "id": "jCVCPTYDlIUr",
        "colab_type": "code",
        "colab": {}
      },
      "source": [
        ""
      ],
      "execution_count": null,
      "outputs": []
    },
    {
      "cell_type": "code",
      "metadata": {
        "id": "ZzI0R97GjTdl",
        "colab_type": "code",
        "colab": {}
      },
      "source": [
        ""
      ],
      "execution_count": null,
      "outputs": []
    },
    {
      "cell_type": "markdown",
      "metadata": {
        "id": "pQnPmPBsjM_f",
        "colab_type": "text"
      },
      "source": [
        ""
      ]
    }
  ]
}